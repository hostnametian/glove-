{
 "cells": [
  {
   "cell_type": "code",
   "execution_count": 1,
   "metadata": {},
   "outputs": [],
   "source": [
    "import pandas as pd\n",
    "import numpy as np\n",
    "import re\n",
    "import jieba\n",
    "from glove import Glove,Corpus"
   ]
  },
  {
   "cell_type": "code",
   "execution_count": 2,
   "metadata": {},
   "outputs": [
    {
     "data": {
      "text/html": [
       "<div>\n",
       "<style scoped>\n",
       "    .dataframe tbody tr th:only-of-type {\n",
       "        vertical-align: middle;\n",
       "    }\n",
       "\n",
       "    .dataframe tbody tr th {\n",
       "        vertical-align: top;\n",
       "    }\n",
       "\n",
       "    .dataframe thead th {\n",
       "        text-align: right;\n",
       "    }\n",
       "</style>\n",
       "<table border=\"1\" class=\"dataframe\">\n",
       "  <thead>\n",
       "    <tr style=\"text-align: right;\">\n",
       "      <th></th>\n",
       "      <th>Unnamed: 0</th>\n",
       "      <th>userId</th>\n",
       "      <th>restId</th>\n",
       "      <th>rating</th>\n",
       "      <th>rating_price</th>\n",
       "      <th>rating_flavor</th>\n",
       "      <th>rating_waitingtime</th>\n",
       "      <th>comment</th>\n",
       "    </tr>\n",
       "  </thead>\n",
       "  <tbody>\n",
       "    <tr>\n",
       "      <th>0</th>\n",
       "      <td>1399812</td>\n",
       "      <td>76401</td>\n",
       "      <td>148763</td>\n",
       "      <td>4.0</td>\n",
       "      <td>3.0</td>\n",
       "      <td>4.0</td>\n",
       "      <td>4.0</td>\n",
       "      <td>虽然等了一个多小时- -，不过店门口排号的mm很有爱，等位有沙发坐还有新疆葡萄干和杏仁吃~。...</td>\n",
       "    </tr>\n",
       "    <tr>\n",
       "      <th>1</th>\n",
       "      <td>3752771</td>\n",
       "      <td>206818</td>\n",
       "      <td>8846</td>\n",
       "      <td>4.0</td>\n",
       "      <td>3.0</td>\n",
       "      <td>3.0</td>\n",
       "      <td>3.0</td>\n",
       "      <td>新开业的，感觉还不错，披萨挺好吃，人还不算太多，肉要赶紧抢，下手一定要早，才能抢到更多的好吃...</td>\n",
       "    </tr>\n",
       "    <tr>\n",
       "      <th>2</th>\n",
       "      <td>1894659</td>\n",
       "      <td>101765</td>\n",
       "      <td>4581</td>\n",
       "      <td>4.0</td>\n",
       "      <td>2.0</td>\n",
       "      <td>3.0</td>\n",
       "      <td>3.0</td>\n",
       "      <td>这里比较方便，价格也比较实惠，来这里\\n的人也很多，大多是学生，口味不错，服务也\\n还好了，...</td>\n",
       "    </tr>\n",
       "    <tr>\n",
       "      <th>3</th>\n",
       "      <td>372997</td>\n",
       "      <td>20441</td>\n",
       "      <td>161132</td>\n",
       "      <td>4.0</td>\n",
       "      <td>3.0</td>\n",
       "      <td>4.0</td>\n",
       "      <td>4.0</td>\n",
       "      <td>太巧了，居然在这家店遇到了老公的同事。看来这家店还是有点名气的。点了一份蛇肉，冬季价格较贵。...</td>\n",
       "    </tr>\n",
       "    <tr>\n",
       "      <th>4</th>\n",
       "      <td>4189146</td>\n",
       "      <td>228958</td>\n",
       "      <td>20559</td>\n",
       "      <td>5.0</td>\n",
       "      <td>4.0</td>\n",
       "      <td>4.0</td>\n",
       "      <td>3.0</td>\n",
       "      <td>头儿聚餐选的地方，环境不错，整个二层被包下来了。牛肉真的很赞，虾滑什么的都很好，最喜欢它家凉...</td>\n",
       "    </tr>\n",
       "  </tbody>\n",
       "</table>\n",
       "</div>"
      ],
      "text/plain": [
       "   Unnamed: 0  userId  restId  rating  rating_price  rating_flavor  \\\n",
       "0     1399812   76401  148763     4.0           3.0            4.0   \n",
       "1     3752771  206818    8846     4.0           3.0            3.0   \n",
       "2     1894659  101765    4581     4.0           2.0            3.0   \n",
       "3      372997   20441  161132     4.0           3.0            4.0   \n",
       "4     4189146  228958   20559     5.0           4.0            4.0   \n",
       "\n",
       "   rating_waitingtime                                            comment  \n",
       "0                 4.0  虽然等了一个多小时- -，不过店门口排号的mm很有爱，等位有沙发坐还有新疆葡萄干和杏仁吃~。...  \n",
       "1                 3.0  新开业的，感觉还不错，披萨挺好吃，人还不算太多，肉要赶紧抢，下手一定要早，才能抢到更多的好吃...  \n",
       "2                 3.0  这里比较方便，价格也比较实惠，来这里\\n的人也很多，大多是学生，口味不错，服务也\\n还好了，...  \n",
       "3                 4.0  太巧了，居然在这家店遇到了老公的同事。看来这家店还是有点名气的。点了一份蛇肉，冬季价格较贵。...  \n",
       "4                 3.0  头儿聚餐选的地方，环境不错，整个二层被包下来了。牛肉真的很赞，虾滑什么的都很好，最喜欢它家凉...  "
      ]
     },
     "execution_count": 2,
     "metadata": {},
     "output_type": "execute_result"
    }
   ],
   "source": [
    "data = pd.read_csv(r'E:\\VSCODE\\自学NLP\\数据集\\sample.csv',encoding='utf-8')\n",
    "data.head()"
   ]
  },
  {
   "cell_type": "code",
   "execution_count": 8,
   "metadata": {},
   "outputs": [
    {
     "data": {
      "text/plain": [
       "'虽然等了一个多小时不过店门口排号的很有爱等位有沙发坐还有新疆葡萄干和杏仁吃我们两个女生点了三个菜串羊肉串再加了一壶奶茶全部消灭奶茶打包第二天值班喝喝奶茶沉淀下来里面有黑色的东西不知道是什么羊排没了说提前一小时全部卖光了囧孜然羊肉乘热吃很好吃那块豆腐还可以我们两个人吃的一块正好酸辣牛肉还可以吧朋友说里面粉丝很好吃我比较喜欢牛肉羊肉串比天山路那家的大也贵冷掉不好吃了总体来说环境比较好价格比较贵'"
      ]
     },
     "execution_count": 8,
     "metadata": {},
     "output_type": "execute_result"
    }
   ],
   "source": [
    "# 去除中文以外的所有字符\n",
    "str_out_comment = []\n",
    "for cn_wrod in data['comment']:\n",
    "    text0 = cn_wrod  # 获取文本内容\n",
    "    text1 = re.sub(\"[\\.\\!\\/_,$%^*(+\\\"\\']+|[+——！，。？、~@#￥%……&*（）]+\", \"\", text0)  # 去除标点及特殊符号\n",
    "    text2 = re.sub(\"[^\\u4e00-\\u9fa5]\", \"\", text1)  # 去除所有非汉字内容（英文数字）\n",
    "    str_out_comment.append(text2)\n",
    "str_out_comment[0]"
   ]
  },
  {
   "cell_type": "code",
   "execution_count": 17,
   "metadata": {},
   "outputs": [
    {
     "data": {
      "text/plain": [
       "'虽然 等 了 一个多 小时 不过 店门口 排号 的 很 有 爱 等位 有 沙发 坐 还有 新疆 葡萄干 和 杏仁 吃 我们 两个 女生 点 了 三个 菜串 羊肉串 再加 了 一壶 奶茶 全部 消灭 奶茶 打包 第二天 值班 喝喝 奶茶 沉淀 下来 里面 有 黑色 的 东西 不 知道 是 什么 羊排 没 了 说 提前 一 小时 全部 卖光 了 囧 孜然 羊肉 乘热 吃 很 好吃 那 块 豆腐 还 可以 我们 两个 人 吃 的 一块 正好 酸辣 牛肉 还 可以 吧 朋友 说 里面 粉丝 很 好吃 我 比较 喜欢 牛肉 羊肉串 比 天山路 那家 的 大 也 贵冷掉 不 好吃 了 总体 来说 环境 比较 好 价格 比较 贵'"
      ]
     },
     "execution_count": 17,
     "metadata": {},
     "output_type": "execute_result"
    }
   ],
   "source": [
    "# 处理文本（结巴分词）\n",
    "comment_words = []\n",
    "for word in str_out_comment:\n",
    "    jieba_cut = jieba.cut(word,cut_all=False)\n",
    "    jieba_word = ' '.join(jieba_cut)\n",
    "    comment_words.append(jieba_word)\n",
    "comment_words[0]"
   ]
  },
  {
   "cell_type": "code",
   "execution_count": 20,
   "metadata": {},
   "outputs": [
    {
     "data": {
      "text/plain": [
       "'虽然 等 了 一个多 小时 不过 店门口 排号 的 很 有 爱 等位 有 沙发 坐 还有 新疆 葡萄干 和 杏仁 吃 我们 两个 女生 点 了 三个 菜串 羊肉串 再加 了 一壶 奶茶 全部 消灭 奶茶 打包 第二天 值班 喝喝 奶茶 沉淀 下来 里面 有 黑色 的 东西 不 知道 是 什么 羊排 没 了 说 提前 一 小时 全部 卖光 了 囧 孜然 羊肉 乘热 吃 很 好吃 那 块 豆腐 还 可以 我们 两个 人 吃 的 一块 正好 酸辣 牛肉 还 可以 吧 朋友 说 里面 粉丝 很 好吃 我 比较 喜欢 牛肉 羊肉串 比 天山路 那家 的 大 也 贵冷掉 不 好吃 了 总体 来说 环境 比较 好 价格 比较 贵'"
      ]
     },
     "execution_count": 20,
     "metadata": {},
     "output_type": "execute_result"
    }
   ],
   "source": [
    "# 去除停用词\n",
    "stop_words = [line.strip() for line in open(r'E:\\VSCODE\\自学NLP\\数据集\\stopwords-cn.txt',encoding='UTF-8').readlines()]\n",
    "comment_words_stop = []\n",
    "for i in comment_words:\n",
    "    if i not in stop_words:\n",
    "        comment_words_stop.append(i)\n",
    "comment_words_stop[0]"
   ]
  },
  {
   "cell_type": "code",
   "execution_count": 21,
   "metadata": {},
   "outputs": [],
   "source": [
    "# 去除空列表\n",
    "comment_words_stop = [x for x in comment_words if x != '']\n",
    "data['comment'] = pd.Series(comment_words)"
   ]
  },
  {
   "cell_type": "code",
   "execution_count": 22,
   "metadata": {},
   "outputs": [],
   "source": [
    "data.dropna(axis=0,how='any',inplace=True)"
   ]
  },
  {
   "cell_type": "code",
   "execution_count": 23,
   "metadata": {
    "scrolled": true
   },
   "outputs": [
    {
     "data": {
      "text/plain": [
       "'虽然 等 了 一个多 小时 不过 店门口 排号 的 很 有 爱 等位 有 沙发 坐 还有 新疆 葡萄干 和 杏仁 吃 我们 两个 女生 点 了 三个 菜串 羊肉串 再加 了 一壶 奶茶 全部 消灭 奶茶 打包 第二天 值班 喝喝 奶茶 沉淀 下来 里面 有 黑色 的 东西 不 知道 是 什么 羊排 没 了 说 提前 一 小时 全部 卖光 了 囧 孜然 羊肉 乘热 吃 很 好吃 那 块 豆腐 还 可以 我们 两个 人 吃 的 一块 正好 酸辣 牛肉 还 可以 吧 朋友 说 里面 粉丝 很 好吃 我 比较 喜欢 牛肉 羊肉串 比 天山路 那家 的 大 也 贵冷掉 不 好吃 了 总体 来说 环境 比较 好 价格 比较 贵'"
      ]
     },
     "execution_count": 23,
     "metadata": {},
     "output_type": "execute_result"
    }
   ],
   "source": [
    "comment = list(data['comment'])\n",
    "comment[0]"
   ]
  },
  {
   "cell_type": "code",
   "execution_count": 24,
   "metadata": {},
   "outputs": [],
   "source": [
    "comment_cut = []\n",
    "for i in comment:\n",
    "    comment_cut.append(i.split())"
   ]
  },
  {
   "cell_type": "code",
   "execution_count": 26,
   "metadata": {},
   "outputs": [
    {
     "data": {
      "text/plain": [
       "'虽然'"
      ]
     },
     "execution_count": 26,
     "metadata": {},
     "output_type": "execute_result"
    }
   ],
   "source": [
    "sen_all = []\n",
    "for i in comment_cut:\n",
    "    for j in i:\n",
    "        sen_all.append(j)\n",
    "sen_all[0]"
   ]
  },
  {
   "cell_type": "markdown",
   "metadata": {},
   "source": [
    "### glove向量化"
   ]
  },
  {
   "cell_type": "code",
   "execution_count": 27,
   "metadata": {},
   "outputs": [],
   "source": [
    "# 准备要向量化的数据\n",
    "sentense = [sen_all]\n",
    "# 实例化语料库模型\n",
    "corpus_model = Corpus()"
   ]
  },
  {
   "cell_type": "code",
   "execution_count": 28,
   "metadata": {},
   "outputs": [],
   "source": [
    "# 训练corpus_model\n",
    "corpus_model.fit(sentense,window=10)"
   ]
  },
  {
   "cell_type": "code",
   "execution_count": 29,
   "metadata": {},
   "outputs": [
    {
     "name": "stdout",
     "output_type": "stream",
     "text": [
      "Performing 12 training epochs with 12 threads\n",
      "Epoch 0\n",
      "Epoch 1\n",
      "Epoch 2\n",
      "Epoch 3\n",
      "Epoch 4\n",
      "Epoch 5\n",
      "Epoch 6\n",
      "Epoch 7\n",
      "Epoch 8\n",
      "Epoch 9\n",
      "Epoch 10\n",
      "Epoch 11\n"
     ]
    }
   ],
   "source": [
    "# glove 的训练\n",
    "glove_comment = Glove(no_components=150,learning_rate=0.05)\n",
    "glove_comment.fit(corpus_model.matrix,epochs = 12,no_threads = 12,verbose = True)\n",
    "glove_comment.add_dictionary(corpus_model.dictionary)"
   ]
  },
  {
   "cell_type": "code",
   "execution_count": 30,
   "metadata": {},
   "outputs": [],
   "source": [
    "word_vector = glove_comment.word_vectors"
   ]
  },
  {
   "cell_type": "code",
   "execution_count": 31,
   "metadata": {},
   "outputs": [],
   "source": [
    "sen_len = []\n",
    "for i in comment_cut:\n",
    "    sen_len.append(len(i))"
   ]
  },
  {
   "cell_type": "code",
   "execution_count": 32,
   "metadata": {},
   "outputs": [],
   "source": [
    "word_sum = []\n",
    "for i in sen_len:\n",
    "    word_sum_value = sum((word_vector[j]) for j in range(i))\n",
    "    word_sum.append(word_sum_value)"
   ]
  },
  {
   "cell_type": "code",
   "execution_count": null,
   "metadata": {},
   "outputs": [],
   "source": [
    "word_sum_list = []\n",
    "for n,i in enumerate(word_sum):\n",
    "    try:\n",
    "        word_sum_list.extend(i)\n",
    "    except TypeError:\n",
    "        print(n,i)\n",
    "        word_sum_list.extend(list(np.zeros(150)))\n",
    "word_vec_sum = np.array(word_sum_list).reshape((-1,150))\n",
    "word_vec_sum[0]"
   ]
  }
 ],
 "metadata": {
  "kernelspec": {
   "display_name": "Python 3",
   "language": "python",
   "name": "python3"
  },
  "language_info": {
   "codemirror_mode": {
    "name": "ipython",
    "version": 3
   },
   "file_extension": ".py",
   "mimetype": "text/x-python",
   "name": "python",
   "nbconvert_exporter": "python",
   "pygments_lexer": "ipython3",
   "version": "3.8.3"
  }
 },
 "nbformat": 4,
 "nbformat_minor": 4
}
